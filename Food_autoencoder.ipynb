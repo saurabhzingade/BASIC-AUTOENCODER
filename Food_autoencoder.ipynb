{
  "nbformat": 4,
  "nbformat_minor": 0,
  "metadata": {
    "colab": {
      "name": "Food_autoencoder.ipynb",
      "provenance": []
    },
    "kernelspec": {
      "name": "python3",
      "display_name": "Python 3"
    }
  },
  "cells": [
    {
      "cell_type": "code",
      "metadata": {
        "id": "i20zU4euy5dj",
        "colab_type": "code",
        "outputId": "844562df-9ffb-4511-c635-b7fedd23e2a7",
        "colab": {
          "base_uri": "https://localhost:8080/",
          "height": 73
        }
      },
      "source": [
        "import pandas as pd\n",
        "import numpy as np\n",
        "import matplotlib.pyplot as plt\n",
        "import seaborn as sns"
      ],
      "execution_count": 0,
      "outputs": [
        {
          "output_type": "stream",
          "text": [
            "/usr/local/lib/python3.6/dist-packages/statsmodels/tools/_testing.py:19: FutureWarning: pandas.util.testing is deprecated. Use the functions in the public API at pandas.testing instead.\n",
            "  import pandas.util.testing as tm\n"
          ],
          "name": "stderr"
        }
      ]
    },
    {
      "cell_type": "code",
      "metadata": {
        "id": "AuRwVL_CznNo",
        "colab_type": "code",
        "colab": {}
      },
      "source": [
        "df = pd.read_csv('/content/UK_foods.csv',index_col='Unnamed: 0')"
      ],
      "execution_count": 0,
      "outputs": []
    },
    {
      "cell_type": "code",
      "metadata": {
        "id": "gT-njXuDz1-m",
        "colab_type": "code",
        "outputId": "b02bc068-e45e-49db-e285-c6d3d8c0f4a7",
        "colab": {
          "base_uri": "https://localhost:8080/",
          "height": 582
        }
      },
      "source": [
        "df"
      ],
      "execution_count": 0,
      "outputs": [
        {
          "output_type": "execute_result",
          "data": {
            "text/html": [
              "<div>\n",
              "<style scoped>\n",
              "    .dataframe tbody tr th:only-of-type {\n",
              "        vertical-align: middle;\n",
              "    }\n",
              "\n",
              "    .dataframe tbody tr th {\n",
              "        vertical-align: top;\n",
              "    }\n",
              "\n",
              "    .dataframe thead th {\n",
              "        text-align: right;\n",
              "    }\n",
              "</style>\n",
              "<table border=\"1\" class=\"dataframe\">\n",
              "  <thead>\n",
              "    <tr style=\"text-align: right;\">\n",
              "      <th></th>\n",
              "      <th>England</th>\n",
              "      <th>Wales</th>\n",
              "      <th>Scotland</th>\n",
              "      <th>N.Ireland</th>\n",
              "    </tr>\n",
              "  </thead>\n",
              "  <tbody>\n",
              "    <tr>\n",
              "      <th>Cheese</th>\n",
              "      <td>105</td>\n",
              "      <td>103</td>\n",
              "      <td>103</td>\n",
              "      <td>66</td>\n",
              "    </tr>\n",
              "    <tr>\n",
              "      <th>Carcass_meat</th>\n",
              "      <td>245</td>\n",
              "      <td>227</td>\n",
              "      <td>242</td>\n",
              "      <td>267</td>\n",
              "    </tr>\n",
              "    <tr>\n",
              "      <th>Other_meat</th>\n",
              "      <td>685</td>\n",
              "      <td>803</td>\n",
              "      <td>750</td>\n",
              "      <td>586</td>\n",
              "    </tr>\n",
              "    <tr>\n",
              "      <th>Fish</th>\n",
              "      <td>147</td>\n",
              "      <td>160</td>\n",
              "      <td>122</td>\n",
              "      <td>93</td>\n",
              "    </tr>\n",
              "    <tr>\n",
              "      <th>Fats_and_oils</th>\n",
              "      <td>193</td>\n",
              "      <td>235</td>\n",
              "      <td>184</td>\n",
              "      <td>209</td>\n",
              "    </tr>\n",
              "    <tr>\n",
              "      <th>Sugars</th>\n",
              "      <td>156</td>\n",
              "      <td>175</td>\n",
              "      <td>147</td>\n",
              "      <td>139</td>\n",
              "    </tr>\n",
              "    <tr>\n",
              "      <th>Fresh_potatoes</th>\n",
              "      <td>720</td>\n",
              "      <td>874</td>\n",
              "      <td>566</td>\n",
              "      <td>1033</td>\n",
              "    </tr>\n",
              "    <tr>\n",
              "      <th>Fresh_Veg</th>\n",
              "      <td>253</td>\n",
              "      <td>265</td>\n",
              "      <td>171</td>\n",
              "      <td>143</td>\n",
              "    </tr>\n",
              "    <tr>\n",
              "      <th>Other_Veg</th>\n",
              "      <td>488</td>\n",
              "      <td>570</td>\n",
              "      <td>418</td>\n",
              "      <td>355</td>\n",
              "    </tr>\n",
              "    <tr>\n",
              "      <th>Processed_potatoes</th>\n",
              "      <td>198</td>\n",
              "      <td>203</td>\n",
              "      <td>220</td>\n",
              "      <td>187</td>\n",
              "    </tr>\n",
              "    <tr>\n",
              "      <th>Processed_Veg</th>\n",
              "      <td>360</td>\n",
              "      <td>365</td>\n",
              "      <td>337</td>\n",
              "      <td>334</td>\n",
              "    </tr>\n",
              "    <tr>\n",
              "      <th>Fresh_fruit</th>\n",
              "      <td>1102</td>\n",
              "      <td>1137</td>\n",
              "      <td>957</td>\n",
              "      <td>674</td>\n",
              "    </tr>\n",
              "    <tr>\n",
              "      <th>Cereals</th>\n",
              "      <td>1472</td>\n",
              "      <td>1582</td>\n",
              "      <td>1462</td>\n",
              "      <td>1494</td>\n",
              "    </tr>\n",
              "    <tr>\n",
              "      <th>Beverages</th>\n",
              "      <td>57</td>\n",
              "      <td>73</td>\n",
              "      <td>53</td>\n",
              "      <td>47</td>\n",
              "    </tr>\n",
              "    <tr>\n",
              "      <th>Soft_drinks</th>\n",
              "      <td>1374</td>\n",
              "      <td>1256</td>\n",
              "      <td>1572</td>\n",
              "      <td>1506</td>\n",
              "    </tr>\n",
              "    <tr>\n",
              "      <th>Alcoholic_drinks</th>\n",
              "      <td>375</td>\n",
              "      <td>475</td>\n",
              "      <td>458</td>\n",
              "      <td>135</td>\n",
              "    </tr>\n",
              "    <tr>\n",
              "      <th>Confectionery</th>\n",
              "      <td>54</td>\n",
              "      <td>64</td>\n",
              "      <td>62</td>\n",
              "      <td>41</td>\n",
              "    </tr>\n",
              "  </tbody>\n",
              "</table>\n",
              "</div>"
            ],
            "text/plain": [
              "                     England  Wales  Scotland  N.Ireland\n",
              "Cheese                   105    103       103         66\n",
              "Carcass_meat             245    227       242        267\n",
              "Other_meat               685    803       750        586\n",
              "Fish                     147    160       122         93\n",
              "Fats_and_oils            193    235       184        209\n",
              "Sugars                   156    175       147        139\n",
              "Fresh_potatoes           720    874       566       1033\n",
              "Fresh_Veg                253    265       171        143\n",
              "Other_Veg                488    570       418        355\n",
              "Processed_potatoes       198    203       220        187\n",
              "Processed_Veg            360    365       337        334\n",
              "Fresh_fruit             1102   1137       957        674\n",
              "Cereals                 1472   1582      1462       1494\n",
              "Beverages                 57     73        53         47\n",
              "Soft_drinks             1374   1256      1572       1506\n",
              "Alcoholic_drinks         375    475       458        135\n",
              "Confectionery             54     64        62         41"
            ]
          },
          "metadata": {
            "tags": []
          },
          "execution_count": 16
        }
      ]
    },
    {
      "cell_type": "code",
      "metadata": {
        "id": "HlorFxLJz2g1",
        "colab_type": "code",
        "outputId": "8d02552d-72e1-4929-a25b-6ea2733e47cb",
        "colab": {
          "base_uri": "https://localhost:8080/",
          "height": 243
        }
      },
      "source": [
        "df.transpose()"
      ],
      "execution_count": 0,
      "outputs": [
        {
          "output_type": "execute_result",
          "data": {
            "text/html": [
              "<div>\n",
              "<style scoped>\n",
              "    .dataframe tbody tr th:only-of-type {\n",
              "        vertical-align: middle;\n",
              "    }\n",
              "\n",
              "    .dataframe tbody tr th {\n",
              "        vertical-align: top;\n",
              "    }\n",
              "\n",
              "    .dataframe thead th {\n",
              "        text-align: right;\n",
              "    }\n",
              "</style>\n",
              "<table border=\"1\" class=\"dataframe\">\n",
              "  <thead>\n",
              "    <tr style=\"text-align: right;\">\n",
              "      <th></th>\n",
              "      <th>0</th>\n",
              "      <th>1</th>\n",
              "      <th>2</th>\n",
              "      <th>3</th>\n",
              "      <th>4</th>\n",
              "      <th>5</th>\n",
              "      <th>6</th>\n",
              "      <th>7</th>\n",
              "      <th>8</th>\n",
              "      <th>9</th>\n",
              "      <th>10</th>\n",
              "      <th>11</th>\n",
              "      <th>12</th>\n",
              "      <th>13</th>\n",
              "      <th>14</th>\n",
              "      <th>15</th>\n",
              "      <th>16</th>\n",
              "    </tr>\n",
              "  </thead>\n",
              "  <tbody>\n",
              "    <tr>\n",
              "      <th>Unnamed: 0</th>\n",
              "      <td>Cheese</td>\n",
              "      <td>Carcass_meat</td>\n",
              "      <td>Other_meat</td>\n",
              "      <td>Fish</td>\n",
              "      <td>Fats_and_oils</td>\n",
              "      <td>Sugars</td>\n",
              "      <td>Fresh_potatoes</td>\n",
              "      <td>Fresh_Veg</td>\n",
              "      <td>Other_Veg</td>\n",
              "      <td>Processed_potatoes</td>\n",
              "      <td>Processed_Veg</td>\n",
              "      <td>Fresh_fruit</td>\n",
              "      <td>Cereals</td>\n",
              "      <td>Beverages</td>\n",
              "      <td>Soft_drinks</td>\n",
              "      <td>Alcoholic_drinks</td>\n",
              "      <td>Confectionery</td>\n",
              "    </tr>\n",
              "    <tr>\n",
              "      <th>England</th>\n",
              "      <td>105</td>\n",
              "      <td>245</td>\n",
              "      <td>685</td>\n",
              "      <td>147</td>\n",
              "      <td>193</td>\n",
              "      <td>156</td>\n",
              "      <td>720</td>\n",
              "      <td>253</td>\n",
              "      <td>488</td>\n",
              "      <td>198</td>\n",
              "      <td>360</td>\n",
              "      <td>1102</td>\n",
              "      <td>1472</td>\n",
              "      <td>57</td>\n",
              "      <td>1374</td>\n",
              "      <td>375</td>\n",
              "      <td>54</td>\n",
              "    </tr>\n",
              "    <tr>\n",
              "      <th>Wales</th>\n",
              "      <td>103</td>\n",
              "      <td>227</td>\n",
              "      <td>803</td>\n",
              "      <td>160</td>\n",
              "      <td>235</td>\n",
              "      <td>175</td>\n",
              "      <td>874</td>\n",
              "      <td>265</td>\n",
              "      <td>570</td>\n",
              "      <td>203</td>\n",
              "      <td>365</td>\n",
              "      <td>1137</td>\n",
              "      <td>1582</td>\n",
              "      <td>73</td>\n",
              "      <td>1256</td>\n",
              "      <td>475</td>\n",
              "      <td>64</td>\n",
              "    </tr>\n",
              "    <tr>\n",
              "      <th>Scotland</th>\n",
              "      <td>103</td>\n",
              "      <td>242</td>\n",
              "      <td>750</td>\n",
              "      <td>122</td>\n",
              "      <td>184</td>\n",
              "      <td>147</td>\n",
              "      <td>566</td>\n",
              "      <td>171</td>\n",
              "      <td>418</td>\n",
              "      <td>220</td>\n",
              "      <td>337</td>\n",
              "      <td>957</td>\n",
              "      <td>1462</td>\n",
              "      <td>53</td>\n",
              "      <td>1572</td>\n",
              "      <td>458</td>\n",
              "      <td>62</td>\n",
              "    </tr>\n",
              "    <tr>\n",
              "      <th>N.Ireland</th>\n",
              "      <td>66</td>\n",
              "      <td>267</td>\n",
              "      <td>586</td>\n",
              "      <td>93</td>\n",
              "      <td>209</td>\n",
              "      <td>139</td>\n",
              "      <td>1033</td>\n",
              "      <td>143</td>\n",
              "      <td>355</td>\n",
              "      <td>187</td>\n",
              "      <td>334</td>\n",
              "      <td>674</td>\n",
              "      <td>1494</td>\n",
              "      <td>47</td>\n",
              "      <td>1506</td>\n",
              "      <td>135</td>\n",
              "      <td>41</td>\n",
              "    </tr>\n",
              "  </tbody>\n",
              "</table>\n",
              "</div>"
            ],
            "text/plain": [
              "                0              1   ...                 15              16\n",
              "Unnamed: 0  Cheese  Carcass_meat   ...  Alcoholic_drinks   Confectionery \n",
              "England        105            245  ...                375              54\n",
              "Wales          103            227  ...                475              64\n",
              "Scotland       103            242  ...                458              62\n",
              "N.Ireland       66            267  ...                135              41\n",
              "\n",
              "[5 rows x 17 columns]"
            ]
          },
          "metadata": {
            "tags": []
          },
          "execution_count": 14
        }
      ]
    },
    {
      "cell_type": "code",
      "metadata": {
        "id": "My68ja8r0IVW",
        "colab_type": "code",
        "outputId": "e8ad9996-c4b6-4898-9543-b0c2690f50cb",
        "colab": {
          "base_uri": "https://localhost:8080/",
          "height": 501
        }
      },
      "source": [
        "plt.figure(figsize=(10,8))\n",
        "sns.heatmap(df)"
      ],
      "execution_count": 0,
      "outputs": [
        {
          "output_type": "execute_result",
          "data": {
            "text/plain": [
              "<matplotlib.axes._subplots.AxesSubplot at 0x7fb741a57b38>"
            ]
          },
          "metadata": {
            "tags": []
          },
          "execution_count": 18
        },
        {
          "output_type": "display_data",
          "data": {
            "image/png": "[encoded data removed]",
            "text/plain": [
              "<Figure size 720x576 with 2 Axes>"
            ]
          },
          "metadata": {
            "tags": [],
            "needs_background": "light"
          }
        }
      ]
    },
    {
      "cell_type": "code",
      "metadata": {
        "id": "YaQyt-su1IRV",
        "colab_type": "code",
        "colab": {}
      },
      "source": [
        "from tensorflow.keras.models import Sequential\n",
        "from tensorflow.keras.layers import Dense\n",
        "from tensorflow.keras.optimizers import SGD"
      ],
      "execution_count": 0,
      "outputs": []
    },
    {
      "cell_type": "code",
      "metadata": {
        "id": "-7lc8x8u1XSm",
        "colab_type": "code",
        "colab": {}
      },
      "source": [
        "encoder = Sequential()\n",
        "encoder.add(Dense(units=8,activation='relu',input_shape=[17]))\n",
        "encoder.add(Dense(units=4,activation='relu',input_shape=[8]))\n",
        "encoder.add(Dense(units=2,activation='relu',input_shape=[4]))"
      ],
      "execution_count": 0,
      "outputs": []
    },
    {
      "cell_type": "code",
      "metadata": {
        "id": "CSx46jZr1qzW",
        "colab_type": "code",
        "colab": {}
      },
      "source": [
        "decoder = Sequential()\n",
        "decoder.add(Dense(units=4,activation='relu',input_shape=[2]))\n",
        "decoder.add(Dense(units=8,activation='relu',input_shape=[4]))\n",
        "decoder.add(Dense(units=17,activation='relu',input_shape=[8]))"
      ],
      "execution_count": 0,
      "outputs": []
    },
    {
      "cell_type": "code",
      "metadata": {
        "id": "v7NbX1nt2BQX",
        "colab_type": "code",
        "colab": {}
      },
      "source": [
        "autoencoder = Sequential([encoder,decoder])\n"
      ],
      "execution_count": 0,
      "outputs": []
    },
    {
      "cell_type": "code",
      "metadata": {
        "id": "umRYBUZ72FV0",
        "colab_type": "code",
        "colab": {}
      },
      "source": [
        "autoencoder.compile(loss=\"mse\" ,optimizer=SGD(lr=1.5))"
      ],
      "execution_count": 0,
      "outputs": []
    },
    {
      "cell_type": "code",
      "metadata": {
        "id": "nZ-agTLr2KkG",
        "colab_type": "code",
        "colab": {}
      },
      "source": [
        "from sklearn.preprocessing import MinMaxScaler"
      ],
      "execution_count": 0,
      "outputs": []
    },
    {
      "cell_type": "code",
      "metadata": {
        "id": "FRNqVDT82SeU",
        "colab_type": "code",
        "colab": {}
      },
      "source": [
        "scaler = MinMaxScaler()"
      ],
      "execution_count": 0,
      "outputs": []
    },
    {
      "cell_type": "code",
      "metadata": {
        "id": "aH1BYvPO2VJ1",
        "colab_type": "code",
        "colab": {}
      },
      "source": [
        "scaled_df = scaler.fit_transform(df.transpose().values)"
      ],
      "execution_count": 0,
      "outputs": []
    },
    {
      "cell_type": "code",
      "metadata": {
        "id": "9TF9yLyr23Pk",
        "colab_type": "code",
        "outputId": "77dabdd7-f518-46b8-e86f-b8df8d7ce667",
        "colab": {
          "base_uri": "https://localhost:8080/",
          "height": 308
        }
      },
      "source": [
        "scaled_df"
      ],
      "execution_count": 0,
      "outputs": [
        {
          "output_type": "execute_result",
          "data": {
            "text/plain": [
              "array([[1.        , 0.45      , 0.4562212 , 0.80597015, 0.17647059,\n",
              "        0.47222222, 0.32976445, 0.90163934, 0.61860465, 0.33333333,\n",
              "        0.83870968, 0.92440605, 0.08333333, 0.38461538, 0.37341772,\n",
              "        0.70588235, 0.56521739],\n",
              "       [0.94871795, 0.        , 1.        , 1.        , 1.        ,\n",
              "        1.        , 0.65952891, 1.        , 1.        , 0.48484848,\n",
              "        1.        , 1.        , 1.        , 1.        , 0.        ,\n",
              "        1.        , 1.        ],\n",
              "       [0.94871795, 0.375     , 0.75576037, 0.43283582, 0.        ,\n",
              "        0.22222222, 0.        , 0.2295082 , 0.29302326, 1.        ,\n",
              "        0.09677419, 0.6112311 , 0.        , 0.23076923, 1.        ,\n",
              "        0.95      , 0.91304348],\n",
              "       [0.        , 1.        , 0.        , 0.        , 0.49019608,\n",
              "        0.        , 1.        , 0.        , 0.        , 0.        ,\n",
              "        0.        , 0.        , 0.26666667, 0.        , 0.79113924,\n",
              "        0.        , 0.        ]])"
            ]
          },
          "metadata": {
            "tags": []
          },
          "execution_count": 52
        }
      ]
    },
    {
      "cell_type": "code",
      "metadata": {
        "id": "Ofb1-B8k4Lt2",
        "colab_type": "code",
        "outputId": "0233b35f-5587-4efa-dbe4-0adaf0aed54c",
        "colab": {
          "base_uri": "https://localhost:8080/",
          "height": 582
        }
      },
      "source": [
        "autoencoder.fit(scaled_df,scaled_df,epochs=15)"
      ],
      "execution_count": 0,
      "outputs": [
        {
          "output_type": "stream",
          "text": [
            "Epoch 1/15\n",
            "1/1 [==============================] - 0s 1ms/step - loss: 0.4273\n",
            "Epoch 2/15\n",
            "1/1 [==============================] - 0s 1ms/step - loss: 0.4068\n",
            "Epoch 3/15\n",
            "1/1 [==============================] - 0s 2ms/step - loss: 0.3698\n",
            "Epoch 4/15\n",
            "1/1 [==============================] - 0s 1ms/step - loss: 0.3523\n",
            "Epoch 5/15\n",
            "1/1 [==============================] - 0s 1ms/step - loss: 0.3451\n",
            "Epoch 6/15\n",
            "1/1 [==============================] - 0s 2ms/step - loss: 0.3419\n",
            "Epoch 7/15\n",
            "1/1 [==============================] - 0s 2ms/step - loss: 0.3403\n",
            "Epoch 8/15\n",
            "1/1 [==============================] - 0s 2ms/step - loss: 0.3393\n",
            "Epoch 9/15\n",
            "1/1 [==============================] - 0s 2ms/step - loss: 0.3386\n",
            "Epoch 10/15\n",
            "1/1 [==============================] - 0s 2ms/step - loss: 0.3382\n",
            "Epoch 11/15\n",
            "1/1 [==============================] - 0s 2ms/step - loss: 0.3377\n",
            "Epoch 12/15\n",
            "1/1 [==============================] - 0s 2ms/step - loss: 0.3373\n",
            "Epoch 13/15\n",
            "1/1 [==============================] - 0s 2ms/step - loss: 0.3369\n",
            "Epoch 14/15\n",
            "1/1 [==============================] - 0s 2ms/step - loss: 0.3364\n",
            "Epoch 15/15\n",
            "1/1 [==============================] - 0s 2ms/step - loss: 0.3360\n"
          ],
          "name": "stdout"
        },
        {
          "output_type": "execute_result",
          "data": {
            "text/plain": [
              "<tensorflow.python.keras.callbacks.History at 0x7fb6f5b24be0>"
            ]
          },
          "metadata": {
            "tags": []
          },
          "execution_count": 53
        }
      ]
    },
    {
      "cell_type": "code",
      "metadata": {
        "id": "T8E-Fu_v2-cU",
        "colab_type": "code",
        "colab": {}
      },
      "source": [
        "encoded_2dim = encoder.predict(scaled_df)"
      ],
      "execution_count": 0,
      "outputs": []
    },
    {
      "cell_type": "code",
      "metadata": {
        "id": "a336H6GG3OK1",
        "colab_type": "code",
        "outputId": "8d0d4244-6379-49ec-dfe4-7335b7338d6d",
        "colab": {
          "base_uri": "https://localhost:8080/",
          "height": 90
        }
      },
      "source": [
        "encoded_2dim"
      ],
      "execution_count": 0,
      "outputs": [
        {
          "output_type": "execute_result",
          "data": {
            "text/plain": [
              "array([[0.        , 0.4197787 ],\n",
              "       [0.        , 0.4294974 ],\n",
              "       [0.        , 0.29863057],\n",
              "       [0.19579113, 0.        ]], dtype=float32)"
            ]
          },
          "metadata": {
            "tags": []
          },
          "execution_count": 55
        }
      ]
    },
    {
      "cell_type": "code",
      "metadata": {
        "id": "9Nshu-aQ3SAn",
        "colab_type": "code",
        "outputId": "8316bad6-d5d2-4aa4-d33b-7c21fc6398b7",
        "colab": {
          "base_uri": "https://localhost:8080/",
          "height": 35
        }
      },
      "source": [
        "df.transpose().index"
      ],
      "execution_count": 0,
      "outputs": [
        {
          "output_type": "execute_result",
          "data": {
            "text/plain": [
              "Index(['England', 'Wales', 'Scotland', 'N.Ireland'], dtype='object')"
            ]
          },
          "metadata": {
            "tags": []
          },
          "execution_count": 56
        }
      ]
    },
    {
      "cell_type": "code",
      "metadata": {
        "id": "FiBCtsfN3b5U",
        "colab_type": "code",
        "colab": {}
      },
      "source": [
        "res = pd.DataFrame(data=encoded_2dim,\n",
        "                   index=df.transpose().index,\n",
        "                   columns=['C1','C2'])"
      ],
      "execution_count": 0,
      "outputs": []
    },
    {
      "cell_type": "code",
      "metadata": {
        "id": "PmE808yb3lLz",
        "colab_type": "code",
        "colab": {}
      },
      "source": [
        "res=res.reset_index()"
      ],
      "execution_count": 0,
      "outputs": []
    },
    {
      "cell_type": "code",
      "metadata": {
        "id": "-3wf3T3-3ndU",
        "colab_type": "code",
        "outputId": "661863e3-6a38-48cf-a511-6d12dcedad2f",
        "colab": {
          "base_uri": "https://localhost:8080/",
          "height": 297
        }
      },
      "source": [
        "sns.scatterplot(x='C1',y='C2',data=res,hue='index')"
      ],
      "execution_count": 0,
      "outputs": [
        {
          "output_type": "execute_result",
          "data": {
            "text/plain": [
              "<matplotlib.axes._subplots.AxesSubplot at 0x7fb6f5b9c898>"
            ]
          },
          "metadata": {
            "tags": []
          },
          "execution_count": 60
        },
        {
          "output_type": "display_data",
          "data": {
            "image/png": "[encoded data removed]",
            "text/plain": [
              "<Figure size 432x288 with 1 Axes>"
            ]
          },
          "metadata": {
            "tags": [],
            "needs_background": "light"
          }
        }
      ]
    },
    {
      "cell_type": "code",
      "metadata": {
        "id": "rm0rhEYQ4SN1",
        "colab_type": "code",
        "colab": {}
      },
      "source": [
        ""
      ],
      "execution_count": 0,
      "outputs": []
    }
  ]
}